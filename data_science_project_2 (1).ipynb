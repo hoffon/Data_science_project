{
  "nbformat": 4,
  "nbformat_minor": 0,
  "metadata": {
    "colab": {
      "name": "data-science-project-2.ipynb",
      "provenance": [],
      "collapsed_sections": []
    },
    "kernelspec": {
      "name": "python3",
      "display_name": "Python 3"
    },
    "language_info": {
      "name": "python"
    }
  },
  "cells": [
    {
      "cell_type": "markdown",
      "metadata": {
        "id": "FfpoHjaZtqew"
      },
      "source": [
        "# รายชื่อสมาชิกในกลุ่ม\n",
        "1. นายรพีพัฒน์ แก้วประสิทธิ์ 6010405408\n",
        "2. นายกฤษฎา ตันวโรภาส 6110405931\n",
        "3. นายณธกฤต ลลิตพุฒิโชค 6110405990"
      ]
    },
    {
      "cell_type": "markdown",
      "metadata": {
        "id": "Oibxncytt0PD"
      },
      "source": [
        "## Download dataset from Kaggle.com\n",
        "Dataset url: https://www.kaggle.com/azathoth42/myanimelist"
      ]
    },
    {
      "cell_type": "code",
      "metadata": {
        "colab": {
          "base_uri": "https://localhost:8080/"
        },
        "id": "x9PK8amj4V3M",
        "outputId": "cf0f0d2e-0ba4-461a-d1dd-79e2c201f936"
      },
      "source": [
        "from google.colab import drive\n",
        "drive.mount('/content/drive')"
      ],
      "execution_count": 3,
      "outputs": [
        {
          "output_type": "stream",
          "text": [
            "Mounted at /content/drive\n"
          ],
          "name": "stdout"
        }
      ]
    },
    {
      "cell_type": "code",
      "metadata": {
        "colab": {
          "base_uri": "https://localhost:8080/"
        },
        "id": "i3HJ9Hxe5Qw_",
        "outputId": "b6cdcf4f-8012-4460-b313-9bf07917495a"
      },
      "source": [
        "!pip install -q kaggle\n",
        "!pip install -q kaggle-cli\n",
        "!mkdir -p ~/.kaggle\n",
        "!cp \"drive/MyDrive/kaggle.json\" ~/.kaggle/\n",
        "!cat ~/.kaggle/kaggle.json \n",
        "!chmod 600 ~/.kaggle/kaggle.json\n",
        "# For other datasets\n",
        "!kaggle datasets download -d azathoth42/myanimelist"
      ],
      "execution_count": 4,
      "outputs": [
        {
          "output_type": "stream",
          "text": [
            "\u001b[K     |████████████████████████████████| 81kB 5.1MB/s \n",
            "\u001b[K     |████████████████████████████████| 4.2MB 7.6MB/s \n",
            "\u001b[K     |████████████████████████████████| 112kB 48.2MB/s \n",
            "\u001b[K     |████████████████████████████████| 51kB 8.7MB/s \n",
            "\u001b[K     |████████████████████████████████| 143kB 47.9MB/s \n",
            "\u001b[?25h  Building wheel for kaggle-cli (setup.py) ... \u001b[?25l\u001b[?25hdone\n",
            "  Building wheel for lxml (setup.py) ... \u001b[?25lerror\n",
            "\u001b[31m  ERROR: Failed building wheel for lxml\u001b[0m\n",
            "\u001b[?25h  Building wheel for PrettyTable (setup.py) ... \u001b[?25l\u001b[?25hdone\n",
            "  Building wheel for pyperclip (setup.py) ... \u001b[?25l\u001b[?25hdone\n",
            "    Running setup.py install for lxml ... \u001b[?25l\u001b[?25herror\n",
            "\u001b[31mERROR: Command errored out with exit status 1: /usr/bin/python3 -u -c 'import sys, setuptools, tokenize; sys.argv[0] = '\"'\"'/tmp/pip-install-i2c19fmh/lxml/setup.py'\"'\"'; __file__='\"'\"'/tmp/pip-install-i2c19fmh/lxml/setup.py'\"'\"';f=getattr(tokenize, '\"'\"'open'\"'\"', open)(__file__);code=f.read().replace('\"'\"'\\r\\n'\"'\"', '\"'\"'\\n'\"'\"');f.close();exec(compile(code, __file__, '\"'\"'exec'\"'\"'))' install --record /tmp/pip-record-6spndnhk/install-record.txt --single-version-externally-managed --compile Check the logs for full command output.\u001b[0m\n",
            "{\"username\":\"rapeepatkaewprasit\",\"key\":\"d8a4e8b66159e5b50ff7fb294853661c\"}Downloading myanimelist.zip to /content\n",
            "100% 1.92G/1.92G [00:45<00:00, 133MB/s]\n",
            "100% 1.92G/1.92G [00:46<00:00, 44.8MB/s]\n"
          ],
          "name": "stdout"
        }
      ]
    },
    {
      "cell_type": "code",
      "metadata": {
        "colab": {
          "base_uri": "https://localhost:8080/"
        },
        "id": "izut-NrK5Ymu",
        "outputId": "c85d4834-d568-4974-8dcb-1b4a7d639ec3"
      },
      "source": [
        "!unzip myanimelist.zip"
      ],
      "execution_count": 5,
      "outputs": [
        {
          "output_type": "stream",
          "text": [
            "Archive:  myanimelist.zip\n",
            "  inflating: AnimeList.csv           \n",
            "  inflating: UserAnimeList.csv       \n",
            "  inflating: UserList.csv            \n",
            "  inflating: anime_cleaned.csv       \n",
            "  inflating: anime_filtered.csv      \n",
            "  inflating: animelists_cleaned.csv  \n",
            "  inflating: animelists_filtered.csv  \n",
            "  inflating: users_cleaned.csv       \n",
            "  inflating: users_filtered.csv      \n"
          ],
          "name": "stdout"
        }
      ]
    },
    {
      "cell_type": "markdown",
      "metadata": {
        "id": "AYRKZdZxt6LQ"
      },
      "source": [
        "## รายละเอียด Columns แต่ละไฟล์ของ MyAnimeList Dataset\n",
        "\n",
        "### anime_cleaned.csv\n",
        "- anime_id - id ของ anime แต่ละเรื่อง (integer)\n",
        "- title - ชื่อเรื่องของ anime แต่ละเรื่อง (string)\n",
        "- title_english - ชื่อเรื่องของ anime แต่ละเรื่องใน version ภาษาอังกฤษ (string)\n",
        "- title_japanese - ชื่อเรื่องของ anime แต่ละเรื่องใน version ภาษาญี่ปุ่น (string)\n",
        "- title_synonyms - ชื่อเรื่อง (string)\n",
        "- image_url - url สำหรับดูภาพโปสเตอร์ anime   (string)\n",
        "- type - anime ฉายผ่านช่องทางใด (string)\n",
        "- source - anime ใช้เนื้อหาจากแหล่งอะไรในการดำเนินเนื้อเรื่อง (string)\n",
        "- episodes - จำนวนตอนที่ฉายของ anime แต่ละเรื่อง (integer)\n",
        "- status - anime เรื่องนั้นฉายจบหรือยัง (string)\n",
        "- airing - anime เรื่องนั้นฉายอยู่หรือไม่ (string)\n",
        "- aired_string - วันแรกที่ฉาย anime เรื่องนั้น (string)\n",
        "- aired - วันสุดท้ายที่ฉาย anime เรื่องนั้น (string)\n",
        "- duration - ระยะเวลาที่ฉายในแต่ละตอน (string)\n",
        "- rating - เกณฑ์การเข้าชม (string)\n",
        "- score - คะแนนที่ได้ (float)\n",
        "- scored_by - จำนวนคนที่ลงคะแนน(integer)\n",
        "- rank - อันดับ anime ยอดเยี่ยม (float)\n",
        "- popularity - อันดับความนิยม anime (integer)\n",
        "- members - จำนวนคนที่เพิ่ม anime เรื่องนั้นๆ ลงในรายการของตนเอง (integer)\n",
        "- favorites-  จำนวนคนที่เพิ่ม anime เรื่องนั้นๆ ลงในรายการชื่นชอบของตนเอง (integer)\n",
        "- background - เบื้องหลังของ anime เรื่องนั้นๆ(string)\n",
        "- premiered - ฤดูและปีที่เข้าฉาย (string)\n",
        "- broadcast - ช่วงเวลาที่ฉาย (string)\n",
        "- related - รายละเอียด anime (string)\n",
        "- producer - ชื่อ producer เรื่องนั้น (string)\n",
        "- licensor - เจ้าของลิขสิทธิ์ (string)\n",
        "- studio - studio ที่ทำ anime เรื่องนั้น (string)\n",
        "- genre - แนวของ  anime  เรื่องนั้น (string)\n",
        "- opening_theme - รายละเอียดของเพลงประกอบตอนเปิด anime (string)\n",
        "- ending_theme - รายละเอียดของเพลงประกอบตอนปิด anime (string)\n",
        "- duration_min - ระยะเวลาขั้นต่ำที่ฉายในแต่ละตอน (float)\n",
        "- aired_from_year - ปีที่เข้าฉาย (float)\n",
        "\n",
        "### users_cleaned.csv\n",
        "- username                  - ข้อมูลชื่อผู้ใช้ (string) \n",
        "- user_id                   - รหัสผู้ใช้ (integer)\n",
        "- user_watching             - จำนวนเรื่องที่ผู้ใช้กำลังดู (integer)\n",
        "- user_completed            - จำนวนเรื่องที่ผู้ใช้ดูจบแล้ว (integer)\n",
        "- user_onhold               - จำนวนเรื่องที่หยุดดู (integer) \n",
        "- user_dropped              - จำนวนเรื่องที่ผู้ใช้ไม่ดูต่อ (integer)\n",
        "- user_plantowatch          - จำนวนเรื่องที่ผู้ใช้วางแผนจะดู (integer)\n",
        "- user_days_spent_watching  - จำนวนวันที่ทั้งหมดที่ผู้ใช้ดู (float)\n",
        "- gender                    - เพศของผู้ใช้ (string)\n",
        "- location                  - ที่อยู่ของผู้ใช้ (string) \n",
        "- birth_date                - วันเกิดของผู้ใช้ (string)\n",
        "- access_rank               - สิทธิเข้าถึง (float)\n",
        "- join_date                 - วันที่สมัคร (string)\n",
        "- last_online               - วันที่เข้าใช้งานล่าสุด (string) \n",
        "- stats_mean_score          - คะแนนเฉลี่ยที่ดู (float)\n",
        "- stats_rewatched           - จำนวนการดูซ้ำ (float)\n",
        "- stats_episodes            - จำนวนตอนที่ดูทั้งหมด (integer)\n",
        "\n",
        "### users_filtered.csv\n",
        "- username - username ของผู้ใช้\n",
        "- user_id - user id ของผู้ใช้\n",
        "- user_watching - จำนวนเรื่องที่ผู้ใช้กำลังดูอยู่ \n",
        "- user_completed - จำนวนเรื่องที่ผู้ใช้ดูจนจบ\n",
        "- user_onhold - จำนวนเรื่องที่ผู้ใช้ดูได้สักพักแล้วจะดูภายหลัง\n",
        "- user_dropped - จำนวนเรื่องที่ผู้ใช้เลิกดู\n",
        "- user_plantowatch - จำนวนเรื่องที่ผู้ใช้จะดู\n",
        "- user_days_spent_watching - จำนวนวันที่ผู้ใช้ดู\n",
        "- gender - เพศ\n",
        "- location - สถานที่ของผู้ใช้\n",
        "- birth_date - วันเกิดของผู้ใช้\n",
        "- access_rank\n",
        "- join_date - วันที่เข้าร่วม plamtform การดู\n",
        "- last_online - วันที่ online ล่าสุด\n",
        "- stats_mean_score - การให้คะแนนเฉลี่ย\n",
        "- stats_rewatched - จำนวนการดูซ้ำ\n",
        "- stats_episodes - จำนวนตอนที่ดู"
      ]
    },
    {
      "cell_type": "code",
      "metadata": {
        "id": "YlJfORcx5lIe"
      },
      "source": [
        "import pandas as pd\n",
        "import numpy as np\n",
        "import seaborn as sns\n",
        "import matplotlib.pyplot as plt"
      ],
      "execution_count": 6,
      "outputs": []
    },
    {
      "cell_type": "code",
      "metadata": {
        "colab": {
          "base_uri": "https://localhost:8080/",
          "height": 719
        },
        "id": "HjyO0LH95o5n",
        "outputId": "2af3f18a-bfcb-4bd3-f35f-c69c8716366b"
      },
      "source": [
        "anime_cleaned = pd.read_csv('anime_cleaned.csv')\n",
        "anime_cleaned.head()"
      ],
      "execution_count": 7,
      "outputs": [
        {
          "output_type": "execute_result",
          "data": {
            "text/html": [
              "<div>\n",
              "<style scoped>\n",
              "    .dataframe tbody tr th:only-of-type {\n",
              "        vertical-align: middle;\n",
              "    }\n",
              "\n",
              "    .dataframe tbody tr th {\n",
              "        vertical-align: top;\n",
              "    }\n",
              "\n",
              "    .dataframe thead th {\n",
              "        text-align: right;\n",
              "    }\n",
              "</style>\n",
              "<table border=\"1\" class=\"dataframe\">\n",
              "  <thead>\n",
              "    <tr style=\"text-align: right;\">\n",
              "      <th></th>\n",
              "      <th>anime_id</th>\n",
              "      <th>title</th>\n",
              "      <th>title_english</th>\n",
              "      <th>title_japanese</th>\n",
              "      <th>title_synonyms</th>\n",
              "      <th>image_url</th>\n",
              "      <th>type</th>\n",
              "      <th>source</th>\n",
              "      <th>episodes</th>\n",
              "      <th>status</th>\n",
              "      <th>airing</th>\n",
              "      <th>aired_string</th>\n",
              "      <th>aired</th>\n",
              "      <th>duration</th>\n",
              "      <th>rating</th>\n",
              "      <th>score</th>\n",
              "      <th>scored_by</th>\n",
              "      <th>rank</th>\n",
              "      <th>popularity</th>\n",
              "      <th>members</th>\n",
              "      <th>favorites</th>\n",
              "      <th>background</th>\n",
              "      <th>premiered</th>\n",
              "      <th>broadcast</th>\n",
              "      <th>related</th>\n",
              "      <th>producer</th>\n",
              "      <th>licensor</th>\n",
              "      <th>studio</th>\n",
              "      <th>genre</th>\n",
              "      <th>opening_theme</th>\n",
              "      <th>ending_theme</th>\n",
              "      <th>duration_min</th>\n",
              "      <th>aired_from_year</th>\n",
              "    </tr>\n",
              "  </thead>\n",
              "  <tbody>\n",
              "    <tr>\n",
              "      <th>0</th>\n",
              "      <td>11013</td>\n",
              "      <td>Inu x Boku SS</td>\n",
              "      <td>Inu X Boku Secret Service</td>\n",
              "      <td>妖狐×僕SS</td>\n",
              "      <td>Youko x Boku SS</td>\n",
              "      <td>https://myanimelist.cdn-dena.com/images/anime/...</td>\n",
              "      <td>TV</td>\n",
              "      <td>Manga</td>\n",
              "      <td>12</td>\n",
              "      <td>Finished Airing</td>\n",
              "      <td>False</td>\n",
              "      <td>Jan 13, 2012 to Mar 30, 2012</td>\n",
              "      <td>{'from': '2012-01-13', 'to': '2012-03-30'}</td>\n",
              "      <td>24 min. per ep.</td>\n",
              "      <td>PG-13 - Teens 13 or older</td>\n",
              "      <td>7.63</td>\n",
              "      <td>139250</td>\n",
              "      <td>1274.0</td>\n",
              "      <td>231</td>\n",
              "      <td>283882</td>\n",
              "      <td>2809</td>\n",
              "      <td>Inu x Boku SS was licensed by Sentai Filmworks...</td>\n",
              "      <td>Winter 2012</td>\n",
              "      <td>Fridays at Unknown</td>\n",
              "      <td>{'Adaptation': [{'mal_id': 17207, 'type': 'man...</td>\n",
              "      <td>Aniplex, Square Enix, Mainichi Broadcasting Sy...</td>\n",
              "      <td>Sentai Filmworks</td>\n",
              "      <td>David Production</td>\n",
              "      <td>Comedy, Supernatural, Romance, Shounen</td>\n",
              "      <td>['\"Nirvana\" by MUCC']</td>\n",
              "      <td>['#1: \"Nirvana\" by MUCC (eps 1, 11-12)', '#2: ...</td>\n",
              "      <td>24.0</td>\n",
              "      <td>2012.0</td>\n",
              "    </tr>\n",
              "    <tr>\n",
              "      <th>1</th>\n",
              "      <td>2104</td>\n",
              "      <td>Seto no Hanayome</td>\n",
              "      <td>My Bride is a Mermaid</td>\n",
              "      <td>瀬戸の花嫁</td>\n",
              "      <td>The Inland Sea Bride</td>\n",
              "      <td>https://myanimelist.cdn-dena.com/images/anime/...</td>\n",
              "      <td>TV</td>\n",
              "      <td>Manga</td>\n",
              "      <td>26</td>\n",
              "      <td>Finished Airing</td>\n",
              "      <td>False</td>\n",
              "      <td>Apr 2, 2007 to Oct 1, 2007</td>\n",
              "      <td>{'from': '2007-04-02', 'to': '2007-10-01'}</td>\n",
              "      <td>24 min. per ep.</td>\n",
              "      <td>PG-13 - Teens 13 or older</td>\n",
              "      <td>7.89</td>\n",
              "      <td>91206</td>\n",
              "      <td>727.0</td>\n",
              "      <td>366</td>\n",
              "      <td>204003</td>\n",
              "      <td>2579</td>\n",
              "      <td>NaN</td>\n",
              "      <td>Spring 2007</td>\n",
              "      <td>Unknown</td>\n",
              "      <td>{'Adaptation': [{'mal_id': 759, 'type': 'manga...</td>\n",
              "      <td>TV Tokyo, AIC, Square Enix, Sotsu</td>\n",
              "      <td>Funimation</td>\n",
              "      <td>Gonzo</td>\n",
              "      <td>Comedy, Parody, Romance, School, Shounen</td>\n",
              "      <td>['\"Romantic summer\" by SUN&amp;LUNAR']</td>\n",
              "      <td>['#1: \"Ashita e no Hikari (明日への光)\" by Asuka Hi...</td>\n",
              "      <td>24.0</td>\n",
              "      <td>2007.0</td>\n",
              "    </tr>\n",
              "    <tr>\n",
              "      <th>2</th>\n",
              "      <td>5262</td>\n",
              "      <td>Shugo Chara!! Doki</td>\n",
              "      <td>Shugo Chara!! Doki</td>\n",
              "      <td>しゅごキャラ！！どきっ</td>\n",
              "      <td>Shugo Chara Ninenme, Shugo Chara! Second Year</td>\n",
              "      <td>https://myanimelist.cdn-dena.com/images/anime/...</td>\n",
              "      <td>TV</td>\n",
              "      <td>Manga</td>\n",
              "      <td>51</td>\n",
              "      <td>Finished Airing</td>\n",
              "      <td>False</td>\n",
              "      <td>Oct 4, 2008 to Sep 25, 2009</td>\n",
              "      <td>{'from': '2008-10-04', 'to': '2009-09-25'}</td>\n",
              "      <td>24 min. per ep.</td>\n",
              "      <td>PG - Children</td>\n",
              "      <td>7.55</td>\n",
              "      <td>37129</td>\n",
              "      <td>1508.0</td>\n",
              "      <td>1173</td>\n",
              "      <td>70127</td>\n",
              "      <td>802</td>\n",
              "      <td>NaN</td>\n",
              "      <td>Fall 2008</td>\n",
              "      <td>Unknown</td>\n",
              "      <td>{'Adaptation': [{'mal_id': 101, 'type': 'manga...</td>\n",
              "      <td>TV Tokyo, Sotsu</td>\n",
              "      <td>NaN</td>\n",
              "      <td>Satelight</td>\n",
              "      <td>Comedy, Magic, School, Shoujo</td>\n",
              "      <td>['#1: \"Minna no Tamago (みんなのたまご)\" by Shugo Cha...</td>\n",
              "      <td>['#1: \"Rottara Rottara (ロッタラ ロッタラ)\" by Buono! ...</td>\n",
              "      <td>24.0</td>\n",
              "      <td>2008.0</td>\n",
              "    </tr>\n",
              "    <tr>\n",
              "      <th>3</th>\n",
              "      <td>721</td>\n",
              "      <td>Princess Tutu</td>\n",
              "      <td>Princess Tutu</td>\n",
              "      <td>プリンセスチュチュ</td>\n",
              "      <td>NaN</td>\n",
              "      <td>https://myanimelist.cdn-dena.com/images/anime/...</td>\n",
              "      <td>TV</td>\n",
              "      <td>Original</td>\n",
              "      <td>38</td>\n",
              "      <td>Finished Airing</td>\n",
              "      <td>False</td>\n",
              "      <td>Aug 16, 2002 to May 23, 2003</td>\n",
              "      <td>{'from': '2002-08-16', 'to': '2003-05-23'}</td>\n",
              "      <td>16 min. per ep.</td>\n",
              "      <td>PG-13 - Teens 13 or older</td>\n",
              "      <td>8.21</td>\n",
              "      <td>36501</td>\n",
              "      <td>307.0</td>\n",
              "      <td>916</td>\n",
              "      <td>93312</td>\n",
              "      <td>3344</td>\n",
              "      <td>Princess Tutu aired in two parts. The first pa...</td>\n",
              "      <td>Summer 2002</td>\n",
              "      <td>Fridays at Unknown</td>\n",
              "      <td>{'Adaptation': [{'mal_id': 1581, 'type': 'mang...</td>\n",
              "      <td>Memory-Tech, GANSIS, Marvelous AQL</td>\n",
              "      <td>ADV Films</td>\n",
              "      <td>Hal Film Maker</td>\n",
              "      <td>Comedy, Drama, Magic, Romance, Fantasy</td>\n",
              "      <td>['\"Morning Grace\" by Ritsuko Okazaki']</td>\n",
              "      <td>['\"Watashi No Ai Wa Chiisaikeredo\" by Ritsuko ...</td>\n",
              "      <td>16.0</td>\n",
              "      <td>2002.0</td>\n",
              "    </tr>\n",
              "    <tr>\n",
              "      <th>4</th>\n",
              "      <td>12365</td>\n",
              "      <td>Bakuman. 3rd Season</td>\n",
              "      <td>Bakuman.</td>\n",
              "      <td>バクマン。</td>\n",
              "      <td>Bakuman Season 3</td>\n",
              "      <td>https://myanimelist.cdn-dena.com/images/anime/...</td>\n",
              "      <td>TV</td>\n",
              "      <td>Manga</td>\n",
              "      <td>25</td>\n",
              "      <td>Finished Airing</td>\n",
              "      <td>False</td>\n",
              "      <td>Oct 6, 2012 to Mar 30, 2013</td>\n",
              "      <td>{'from': '2012-10-06', 'to': '2013-03-30'}</td>\n",
              "      <td>24 min. per ep.</td>\n",
              "      <td>PG-13 - Teens 13 or older</td>\n",
              "      <td>8.67</td>\n",
              "      <td>107767</td>\n",
              "      <td>50.0</td>\n",
              "      <td>426</td>\n",
              "      <td>182765</td>\n",
              "      <td>2082</td>\n",
              "      <td>NaN</td>\n",
              "      <td>Fall 2012</td>\n",
              "      <td>Unknown</td>\n",
              "      <td>{'Adaptation': [{'mal_id': 9711, 'type': 'mang...</td>\n",
              "      <td>NHK, Shueisha</td>\n",
              "      <td>NaN</td>\n",
              "      <td>J.C.Staff</td>\n",
              "      <td>Comedy, Drama, Romance, Shounen</td>\n",
              "      <td>['#1: \"Moshimo no Hanashi (もしもの話)\" by nano.RIP...</td>\n",
              "      <td>['#1: \"Pride on Everyday\" by Sphere (eps 1-13)...</td>\n",
              "      <td>24.0</td>\n",
              "      <td>2012.0</td>\n",
              "    </tr>\n",
              "  </tbody>\n",
              "</table>\n",
              "</div>"
            ],
            "text/plain": [
              "   anime_id                title  ... duration_min aired_from_year\n",
              "0     11013        Inu x Boku SS  ...         24.0          2012.0\n",
              "1      2104     Seto no Hanayome  ...         24.0          2007.0\n",
              "2      5262   Shugo Chara!! Doki  ...         24.0          2008.0\n",
              "3       721        Princess Tutu  ...         16.0          2002.0\n",
              "4     12365  Bakuman. 3rd Season  ...         24.0          2012.0\n",
              "\n",
              "[5 rows x 33 columns]"
            ]
          },
          "metadata": {
            "tags": []
          },
          "execution_count": 7
        }
      ]
    },
    {
      "cell_type": "code",
      "metadata": {
        "colab": {
          "base_uri": "https://localhost:8080/",
          "height": 299
        },
        "id": "YFPy5GoC5rBA",
        "outputId": "aec71003-df74-4dcc-9d7c-fa639c4fa521"
      },
      "source": [
        "users_cleaned = pd.read_csv('users_cleaned.csv')\n",
        "users_cleaned.head()"
      ],
      "execution_count": 8,
      "outputs": [
        {
          "output_type": "execute_result",
          "data": {
            "text/html": [
              "<div>\n",
              "<style scoped>\n",
              "    .dataframe tbody tr th:only-of-type {\n",
              "        vertical-align: middle;\n",
              "    }\n",
              "\n",
              "    .dataframe tbody tr th {\n",
              "        vertical-align: top;\n",
              "    }\n",
              "\n",
              "    .dataframe thead th {\n",
              "        text-align: right;\n",
              "    }\n",
              "</style>\n",
              "<table border=\"1\" class=\"dataframe\">\n",
              "  <thead>\n",
              "    <tr style=\"text-align: right;\">\n",
              "      <th></th>\n",
              "      <th>username</th>\n",
              "      <th>user_id</th>\n",
              "      <th>user_watching</th>\n",
              "      <th>user_completed</th>\n",
              "      <th>user_onhold</th>\n",
              "      <th>user_dropped</th>\n",
              "      <th>user_plantowatch</th>\n",
              "      <th>user_days_spent_watching</th>\n",
              "      <th>gender</th>\n",
              "      <th>location</th>\n",
              "      <th>birth_date</th>\n",
              "      <th>access_rank</th>\n",
              "      <th>join_date</th>\n",
              "      <th>last_online</th>\n",
              "      <th>stats_mean_score</th>\n",
              "      <th>stats_rewatched</th>\n",
              "      <th>stats_episodes</th>\n",
              "    </tr>\n",
              "  </thead>\n",
              "  <tbody>\n",
              "    <tr>\n",
              "      <th>0</th>\n",
              "      <td>karthiga</td>\n",
              "      <td>2255153</td>\n",
              "      <td>3</td>\n",
              "      <td>49</td>\n",
              "      <td>1</td>\n",
              "      <td>0</td>\n",
              "      <td>0</td>\n",
              "      <td>55.091667</td>\n",
              "      <td>Female</td>\n",
              "      <td>Chennai, India</td>\n",
              "      <td>1990-04-29 00:00:00</td>\n",
              "      <td>NaN</td>\n",
              "      <td>2013-03-03 00:00:00</td>\n",
              "      <td>2014-02-04 01:32:00</td>\n",
              "      <td>7.43</td>\n",
              "      <td>0.0</td>\n",
              "      <td>3391</td>\n",
              "    </tr>\n",
              "    <tr>\n",
              "      <th>1</th>\n",
              "      <td>Damonashu</td>\n",
              "      <td>37326</td>\n",
              "      <td>45</td>\n",
              "      <td>195</td>\n",
              "      <td>27</td>\n",
              "      <td>25</td>\n",
              "      <td>59</td>\n",
              "      <td>82.574306</td>\n",
              "      <td>Male</td>\n",
              "      <td>Detroit,Michigan</td>\n",
              "      <td>1991-08-01 00:00:00</td>\n",
              "      <td>NaN</td>\n",
              "      <td>2008-02-13 00:00:00</td>\n",
              "      <td>2017-07-10 06:52:54</td>\n",
              "      <td>6.15</td>\n",
              "      <td>6.0</td>\n",
              "      <td>4903</td>\n",
              "    </tr>\n",
              "    <tr>\n",
              "      <th>2</th>\n",
              "      <td>bskai</td>\n",
              "      <td>228342</td>\n",
              "      <td>25</td>\n",
              "      <td>414</td>\n",
              "      <td>2</td>\n",
              "      <td>5</td>\n",
              "      <td>11</td>\n",
              "      <td>159.483333</td>\n",
              "      <td>Male</td>\n",
              "      <td>Nayarit, Mexico</td>\n",
              "      <td>1990-12-14 00:00:00</td>\n",
              "      <td>NaN</td>\n",
              "      <td>2009-08-31 00:00:00</td>\n",
              "      <td>2014-05-12 16:35:00</td>\n",
              "      <td>8.27</td>\n",
              "      <td>1.0</td>\n",
              "      <td>9701</td>\n",
              "    </tr>\n",
              "    <tr>\n",
              "      <th>3</th>\n",
              "      <td>terune_uzumaki</td>\n",
              "      <td>327311</td>\n",
              "      <td>5</td>\n",
              "      <td>5</td>\n",
              "      <td>0</td>\n",
              "      <td>0</td>\n",
              "      <td>0</td>\n",
              "      <td>11.394444</td>\n",
              "      <td>Female</td>\n",
              "      <td>Malaysia, Kuantan</td>\n",
              "      <td>1998-08-24 00:00:00</td>\n",
              "      <td>NaN</td>\n",
              "      <td>2010-05-10 00:00:00</td>\n",
              "      <td>2012-10-18 19:06:00</td>\n",
              "      <td>9.70</td>\n",
              "      <td>6.0</td>\n",
              "      <td>697</td>\n",
              "    </tr>\n",
              "    <tr>\n",
              "      <th>4</th>\n",
              "      <td>Bas_G</td>\n",
              "      <td>5015094</td>\n",
              "      <td>35</td>\n",
              "      <td>114</td>\n",
              "      <td>6</td>\n",
              "      <td>20</td>\n",
              "      <td>175</td>\n",
              "      <td>30.458333</td>\n",
              "      <td>Male</td>\n",
              "      <td>Nijmegen, Nederland</td>\n",
              "      <td>1999-10-24 00:00:00</td>\n",
              "      <td>NaN</td>\n",
              "      <td>2015-11-26 00:00:00</td>\n",
              "      <td>2018-05-10 20:53:37</td>\n",
              "      <td>7.86</td>\n",
              "      <td>0.0</td>\n",
              "      <td>1847</td>\n",
              "    </tr>\n",
              "  </tbody>\n",
              "</table>\n",
              "</div>"
            ],
            "text/plain": [
              "         username  user_id  ...  stats_rewatched  stats_episodes\n",
              "0        karthiga  2255153  ...              0.0            3391\n",
              "1       Damonashu    37326  ...              6.0            4903\n",
              "2           bskai   228342  ...              1.0            9701\n",
              "3  terune_uzumaki   327311  ...              6.0             697\n",
              "4           Bas_G  5015094  ...              0.0            1847\n",
              "\n",
              "[5 rows x 17 columns]"
            ]
          },
          "metadata": {
            "tags": []
          },
          "execution_count": 8
        }
      ]
    },
    {
      "cell_type": "code",
      "metadata": {
        "colab": {
          "base_uri": "https://localhost:8080/",
          "height": 299
        },
        "id": "vEybhBYCujjQ",
        "outputId": "682977ce-a149-4b9e-ed22-4d2b42541509"
      },
      "source": [
        "users_filtered = pd.read_csv('users_filtered.csv')\n",
        "users_filtered.head()"
      ],
      "execution_count": 9,
      "outputs": [
        {
          "output_type": "execute_result",
          "data": {
            "text/html": [
              "<div>\n",
              "<style scoped>\n",
              "    .dataframe tbody tr th:only-of-type {\n",
              "        vertical-align: middle;\n",
              "    }\n",
              "\n",
              "    .dataframe tbody tr th {\n",
              "        vertical-align: top;\n",
              "    }\n",
              "\n",
              "    .dataframe thead th {\n",
              "        text-align: right;\n",
              "    }\n",
              "</style>\n",
              "<table border=\"1\" class=\"dataframe\">\n",
              "  <thead>\n",
              "    <tr style=\"text-align: right;\">\n",
              "      <th></th>\n",
              "      <th>username</th>\n",
              "      <th>user_id</th>\n",
              "      <th>user_watching</th>\n",
              "      <th>user_completed</th>\n",
              "      <th>user_onhold</th>\n",
              "      <th>user_dropped</th>\n",
              "      <th>user_plantowatch</th>\n",
              "      <th>user_days_spent_watching</th>\n",
              "      <th>gender</th>\n",
              "      <th>location</th>\n",
              "      <th>birth_date</th>\n",
              "      <th>access_rank</th>\n",
              "      <th>join_date</th>\n",
              "      <th>last_online</th>\n",
              "      <th>stats_mean_score</th>\n",
              "      <th>stats_rewatched</th>\n",
              "      <th>stats_episodes</th>\n",
              "    </tr>\n",
              "  </thead>\n",
              "  <tbody>\n",
              "    <tr>\n",
              "      <th>0</th>\n",
              "      <td>karthiga</td>\n",
              "      <td>2255153</td>\n",
              "      <td>3</td>\n",
              "      <td>49</td>\n",
              "      <td>1</td>\n",
              "      <td>0</td>\n",
              "      <td>0</td>\n",
              "      <td>55.31</td>\n",
              "      <td>Female</td>\n",
              "      <td>Chennai, India</td>\n",
              "      <td>1990-04-29</td>\n",
              "      <td>NaN</td>\n",
              "      <td>2013-03-03</td>\n",
              "      <td>2014-02-04 01:32:00</td>\n",
              "      <td>7.43</td>\n",
              "      <td>0.0</td>\n",
              "      <td>3391.0</td>\n",
              "    </tr>\n",
              "    <tr>\n",
              "      <th>1</th>\n",
              "      <td>RedvelvetDaisuki</td>\n",
              "      <td>1897606</td>\n",
              "      <td>61</td>\n",
              "      <td>396</td>\n",
              "      <td>39</td>\n",
              "      <td>0</td>\n",
              "      <td>206</td>\n",
              "      <td>118.07</td>\n",
              "      <td>Female</td>\n",
              "      <td>Manila</td>\n",
              "      <td>1995-01-01</td>\n",
              "      <td>NaN</td>\n",
              "      <td>2012-12-13</td>\n",
              "      <td>1900-05-13 02:47:00</td>\n",
              "      <td>6.78</td>\n",
              "      <td>80.0</td>\n",
              "      <td>7094.0</td>\n",
              "    </tr>\n",
              "    <tr>\n",
              "      <th>2</th>\n",
              "      <td>Damonashu</td>\n",
              "      <td>37326</td>\n",
              "      <td>45</td>\n",
              "      <td>195</td>\n",
              "      <td>27</td>\n",
              "      <td>25</td>\n",
              "      <td>59</td>\n",
              "      <td>83.70</td>\n",
              "      <td>Male</td>\n",
              "      <td>Detroit,Michigan</td>\n",
              "      <td>1991-08-01</td>\n",
              "      <td>NaN</td>\n",
              "      <td>2008-02-13</td>\n",
              "      <td>1900-03-24 12:48:00</td>\n",
              "      <td>6.15</td>\n",
              "      <td>6.0</td>\n",
              "      <td>4936.0</td>\n",
              "    </tr>\n",
              "    <tr>\n",
              "      <th>3</th>\n",
              "      <td>bskai</td>\n",
              "      <td>228342</td>\n",
              "      <td>25</td>\n",
              "      <td>414</td>\n",
              "      <td>2</td>\n",
              "      <td>5</td>\n",
              "      <td>11</td>\n",
              "      <td>167.16</td>\n",
              "      <td>Male</td>\n",
              "      <td>Nayarit, Mexico</td>\n",
              "      <td>1990-12-14</td>\n",
              "      <td>NaN</td>\n",
              "      <td>2009-08-31</td>\n",
              "      <td>2014-05-12 16:35:00</td>\n",
              "      <td>8.27</td>\n",
              "      <td>1.0</td>\n",
              "      <td>10081.0</td>\n",
              "    </tr>\n",
              "    <tr>\n",
              "      <th>4</th>\n",
              "      <td>terune_uzumaki</td>\n",
              "      <td>327311</td>\n",
              "      <td>5</td>\n",
              "      <td>5</td>\n",
              "      <td>0</td>\n",
              "      <td>0</td>\n",
              "      <td>0</td>\n",
              "      <td>15.20</td>\n",
              "      <td>Female</td>\n",
              "      <td>Malaysia, Kuantan</td>\n",
              "      <td>1998-08-24</td>\n",
              "      <td>NaN</td>\n",
              "      <td>2010-05-10</td>\n",
              "      <td>2012-10-18 19:06:00</td>\n",
              "      <td>9.70</td>\n",
              "      <td>6.0</td>\n",
              "      <td>920.0</td>\n",
              "    </tr>\n",
              "  </tbody>\n",
              "</table>\n",
              "</div>"
            ],
            "text/plain": [
              "           username  user_id  ...  stats_rewatched  stats_episodes\n",
              "0          karthiga  2255153  ...              0.0          3391.0\n",
              "1  RedvelvetDaisuki  1897606  ...             80.0          7094.0\n",
              "2         Damonashu    37326  ...              6.0          4936.0\n",
              "3             bskai   228342  ...              1.0         10081.0\n",
              "4    terune_uzumaki   327311  ...              6.0           920.0\n",
              "\n",
              "[5 rows x 17 columns]"
            ]
          },
          "metadata": {
            "tags": []
          },
          "execution_count": 9
        }
      ]
    },
    {
      "cell_type": "markdown",
      "metadata": {
        "id": "Np7ORPRz5xoH"
      },
      "source": [
        "## 1. ค่าเฉลี่ยของคะแนนในแต่ละ Rating"
      ]
    },
    {
      "cell_type": "code",
      "metadata": {
        "colab": {
          "base_uri": "https://localhost:8080/"
        },
        "id": "IAPCyxRg6qhs",
        "outputId": "0d893f20-4256-49af-e79a-76d5db60d9ff"
      },
      "source": [
        "anime_cleaned.rating.unique()"
      ],
      "execution_count": 10,
      "outputs": [
        {
          "output_type": "execute_result",
          "data": {
            "text/plain": [
              "array(['PG-13 - Teens 13 or older', 'PG - Children', 'G - All Ages',\n",
              "       'R+ - Mild Nudity', 'R - 17+ (violence & profanity)', 'None',\n",
              "       'Rx - Hentai'], dtype=object)"
            ]
          },
          "metadata": {
            "tags": []
          },
          "execution_count": 10
        }
      ]
    },
    {
      "cell_type": "code",
      "metadata": {
        "id": "f6Oc_K0k7TWL"
      },
      "source": [
        "df = anime_cleaned[anime_cleaned.rating != 'None']"
      ],
      "execution_count": 11,
      "outputs": []
    },
    {
      "cell_type": "code",
      "metadata": {
        "colab": {
          "base_uri": "https://localhost:8080/"
        },
        "id": "Mitqa4NZ63PA",
        "outputId": "39bcc8f6-9a58-4b4b-bdc3-0f9c0947d0ce"
      },
      "source": [
        "df.groupby(by='rating')['score'].mean()"
      ],
      "execution_count": 12,
      "outputs": [
        {
          "output_type": "execute_result",
          "data": {
            "text/plain": [
              "rating\n",
              "G - All Ages                      6.297878\n",
              "PG - Children                     6.555820\n",
              "PG-13 - Teens 13 or older         7.034485\n",
              "R - 17+ (violence & profanity)    7.223826\n",
              "R+ - Mild Nudity                  6.779505\n",
              "Rx - Hentai                       6.577681\n",
              "Name: score, dtype: float64"
            ]
          },
          "metadata": {
            "tags": []
          },
          "execution_count": 12
        }
      ]
    },
    {
      "cell_type": "code",
      "metadata": {
        "colab": {
          "base_uri": "https://localhost:8080/",
          "height": 436
        },
        "id": "Z_pGrzZX7Cgd",
        "outputId": "14e90ff1-35d2-4afe-d1c6-6a8d7694d3bb"
      },
      "source": [
        "df.groupby(by='rating')['score'].mean().plot(kind='bar')"
      ],
      "execution_count": 13,
      "outputs": [
        {
          "output_type": "execute_result",
          "data": {
            "text/plain": [
              "<matplotlib.axes._subplots.AxesSubplot at 0x7fc9798c3710>"
            ]
          },
          "metadata": {
            "tags": []
          },
          "execution_count": 13
        },
        {
          "output_type": "display_data",
          "data": {
            "image/png": "[encoded data removed]",
            "text/plain": [
              "<Figure size 432x288 with 1 Axes>"
            ]
          },
          "metadata": {
            "tags": [],
            "needs_background": "light"
          }
        }
      ]
    },
    {
      "cell_type": "markdown",
      "metadata": {
        "id": "hjPRYuzf8pyK"
      },
      "source": [
        "### Hypothesis Testing: ค่าเฉลี่ยคะแนนของ \"R - 17+ (violence & profanity)\" มากกว่า \"PG - Children\" อยู่ 0.668 เป็นเรื่องบังเอิญหรือไม่?\n",
        "\n",
        "#### 1. ตั้ง Null Hypothesis $H_0$\n",
        "Null Hypothesis => ค่าเฉลี่ยคะแนนของ \"R - 17+ (violence & profanity)\" มากกว่า \"PG - Children\" อยู่ 0.668 เป็นเรื่องบังเอิญ\n",
        "\n",
        "#### 2. ตั้ง Alternate Hypothesis $H_1$\n",
        "Alternate Hypothesis => ค่าเฉลี่ยคะแนนของ \"R - 17+ (violence & profanity)\" มากกว่า \"PG - Children\" อยู่ 0.668 เป็นเรื่องที่ไม่บังเอิญ\n",
        "\n",
        "#### 3. ตั้งค่า $\\alpha$"
      ]
    },
    {
      "cell_type": "code",
      "metadata": {
        "id": "TIztFev78KXS"
      },
      "source": [
        "alpha = 0.01\n",
        "diff_data = df[df.rating == 'R - 17+ (violence & profanity)'].score.mean() - df[df.rating == 'PG - Children'].score.mean()"
      ],
      "execution_count": 14,
      "outputs": []
    },
    {
      "cell_type": "markdown",
      "metadata": {
        "id": "iiLusljYvniG"
      },
      "source": [
        "#### 4. หา $p$-value"
      ]
    },
    {
      "cell_type": "code",
      "metadata": {
        "colab": {
          "base_uri": "https://localhost:8080/"
        },
        "id": "zEIAvxRi9AIF",
        "outputId": "7df0dd16-a830-4281-e37c-2e1059785a9b"
      },
      "source": [
        "df.rating.value_counts()"
      ],
      "execution_count": 15,
      "outputs": [
        {
          "output_type": "execute_result",
          "data": {
            "text/plain": [
              "PG-13 - Teens 13 or older         3396\n",
              "G - All Ages                      1046\n",
              "R - 17+ (violence & profanity)     758\n",
              "R+ - Mild Nudity                   566\n",
              "PG - Children                      488\n",
              "Rx - Hentai                        332\n",
              "Name: rating, dtype: int64"
            ]
          },
          "metadata": {
            "tags": []
          },
          "execution_count": 15
        }
      ]
    },
    {
      "cell_type": "code",
      "metadata": {
        "id": "ZC0DmkkW9H8d"
      },
      "source": [
        "n1 = 758\n",
        "n2 = 488"
      ],
      "execution_count": 16,
      "outputs": []
    },
    {
      "cell_type": "code",
      "metadata": {
        "id": "G1i44Rdj-IlA"
      },
      "source": [
        "df_temp = df[(df.rating == 'PG - Children') | (df.rating == 'R - 17+ (violence & profanity)')]"
      ],
      "execution_count": 17,
      "outputs": []
    },
    {
      "cell_type": "code",
      "metadata": {
        "colab": {
          "base_uri": "https://localhost:8080/"
        },
        "id": "2H2Heg3k9Na2",
        "outputId": "c98e1df4-d691-4bee-f5ed-c6e5632baad0"
      },
      "source": [
        "diff_list = []\n",
        "\n",
        "for i in range(10000):\n",
        "    g1 = df_temp.sample(n1, replace=True)\n",
        "    g2 = df_temp.sample(n2, replace=True)\n",
        "    diff_list.append(g1.score.mean() - g2.score.mean())\n",
        "\n",
        "p_value = (pd.Series(diff_list) >= diff_data).sum() / 10000\n",
        "p_value"
      ],
      "execution_count": 18,
      "outputs": [
        {
          "output_type": "execute_result",
          "data": {
            "text/plain": [
              "0.0"
            ]
          },
          "metadata": {
            "tags": []
          },
          "execution_count": 18
        }
      ]
    },
    {
      "cell_type": "markdown",
      "metadata": {
        "id": "cRoYEM8Zvtay"
      },
      "source": [
        "#### 5. เปรียบเทียบ $p$-value กับ $\\alpha$"
      ]
    },
    {
      "cell_type": "code",
      "metadata": {
        "colab": {
          "base_uri": "https://localhost:8080/"
        },
        "id": "dip4QWVa-9tX",
        "outputId": "1d9ae9a3-b33e-4ce5-d6ab-7157023890d9"
      },
      "source": [
        "alpha, p_value"
      ],
      "execution_count": 19,
      "outputs": [
        {
          "output_type": "execute_result",
          "data": {
            "text/plain": [
              "(0.01, 0.0)"
            ]
          },
          "metadata": {
            "tags": []
          },
          "execution_count": 19
        }
      ]
    },
    {
      "cell_type": "markdown",
      "metadata": {
        "id": "4oXRJn1GvwGs"
      },
      "source": [
        "#### 6. สรุปผลการทดสอบ\n",
        "\n",
        "จะเห็นว่าค่า $p$-value มีค่าน้อยกว่า alpha ดังนั้นจึงปฏิเสธ $H_0$ และยอมรับ $H_1$ ที่ระดับความเชื่อมั่น 99%"
      ]
    },
    {
      "cell_type": "code",
      "metadata": {
        "colab": {
          "base_uri": "https://localhost:8080/",
          "height": 383
        },
        "id": "93MfJyemC7rH",
        "outputId": "ec70ba48-e9a2-4658-bf1d-1e8e656c8b5b"
      },
      "source": [
        "sns.distplot(df[df.rating == \"R - 17+ (violence & profanity)\"].score, label=\"Male\")\n",
        "sns.distplot(df[df.rating == \"PG - Children\"].score, label=\"Female\")\n",
        "plt.legend()"
      ],
      "execution_count": 20,
      "outputs": [
        {
          "output_type": "stream",
          "text": [
            "/usr/local/lib/python3.7/dist-packages/seaborn/distributions.py:2557: FutureWarning: `distplot` is a deprecated function and will be removed in a future version. Please adapt your code to use either `displot` (a figure-level function with similar flexibility) or `histplot` (an axes-level function for histograms).\n",
            "  warnings.warn(msg, FutureWarning)\n",
            "/usr/local/lib/python3.7/dist-packages/seaborn/distributions.py:2557: FutureWarning: `distplot` is a deprecated function and will be removed in a future version. Please adapt your code to use either `displot` (a figure-level function with similar flexibility) or `histplot` (an axes-level function for histograms).\n",
            "  warnings.warn(msg, FutureWarning)\n"
          ],
          "name": "stderr"
        },
        {
          "output_type": "execute_result",
          "data": {
            "text/plain": [
              "<matplotlib.legend.Legend at 0x7fc979014a10>"
            ]
          },
          "metadata": {
            "tags": []
          },
          "execution_count": 20
        },
        {
          "output_type": "display_data",
          "data": {
            "image/png": "[encoded data removed]",
            "text/plain": [
              "<Figure size 432x288 with 1 Axes>"
            ]
          },
          "metadata": {
            "tags": [],
            "needs_background": "light"
          }
        }
      ]
    },
    {
      "cell_type": "markdown",
      "metadata": {
        "id": "XgMu9VaUwbZH"
      },
      "source": [
        "## 2. การให้ Score เฉลี่ยระหว่างเพศชายและเพศหญิง"
      ]
    },
    {
      "cell_type": "code",
      "metadata": {
        "id": "t3LlQ2CSwd6R"
      },
      "source": [
        "usermf = users_cleaned.loc[(users_cleaned.gender == 'Male')|(users_cleaned.gender == 'Female')]"
      ],
      "execution_count": 21,
      "outputs": []
    },
    {
      "cell_type": "code",
      "metadata": {
        "colab": {
          "base_uri": "https://localhost:8080/"
        },
        "id": "toSV7_4MwgoQ",
        "outputId": "6f566d56-7b33-4ce7-f8cb-fbd53810caca"
      },
      "source": [
        "usermf.groupby('gender').size()"
      ],
      "execution_count": 22,
      "outputs": [
        {
          "output_type": "execute_result",
          "data": {
            "text/plain": [
              "gender\n",
              "Female    37330\n",
              "Male      70880\n",
              "dtype: int64"
            ]
          },
          "metadata": {
            "tags": []
          },
          "execution_count": 22
        }
      ]
    },
    {
      "cell_type": "code",
      "metadata": {
        "colab": {
          "base_uri": "https://localhost:8080/"
        },
        "id": "DUnyLYGRwiJR",
        "outputId": "f13a002c-22c7-476d-cda8-0084c39d4ace"
      },
      "source": [
        "usermf.groupby('gender').stats_mean_score.mean()"
      ],
      "execution_count": 23,
      "outputs": [
        {
          "output_type": "execute_result",
          "data": {
            "text/plain": [
              "gender\n",
              "Female    7.848095\n",
              "Male      7.696418\n",
              "Name: stats_mean_score, dtype: float64"
            ]
          },
          "metadata": {
            "tags": []
          },
          "execution_count": 23
        }
      ]
    },
    {
      "cell_type": "code",
      "metadata": {
        "colab": {
          "base_uri": "https://localhost:8080/"
        },
        "id": "a-2hBBGKwjlk",
        "outputId": "36c34bc0-5d99-4d37-e992-791e1374e829"
      },
      "source": [
        "usermf.groupby('gender').stats_mean_score.mean().diff()"
      ],
      "execution_count": 24,
      "outputs": [
        {
          "output_type": "execute_result",
          "data": {
            "text/plain": [
              "gender\n",
              "Female         NaN\n",
              "Male     -0.151676\n",
              "Name: stats_mean_score, dtype: float64"
            ]
          },
          "metadata": {
            "tags": []
          },
          "execution_count": 24
        }
      ]
    },
    {
      "cell_type": "markdown",
      "metadata": {
        "id": "ykoyhitMwmUi"
      },
      "source": [
        "การกระจายตัวของการให้ score เฉลี่ยของเพศชายและเพศหญิง"
      ]
    },
    {
      "cell_type": "code",
      "metadata": {
        "colab": {
          "base_uri": "https://localhost:8080/",
          "height": 356
        },
        "id": "ADQfGypAwm0V",
        "outputId": "376d191c-3896-4ac3-f81a-0f027790ff76"
      },
      "source": [
        "sns.set(rc={\"figure.figsize\": (10, 5)})\n",
        "sns.set_style(\"dark\")\n",
        "sns.set_palette(['orangered','deepskyblue'])\n",
        "sns.boxplot(x='stats_mean_score', y='gender', data=usermf)"
      ],
      "execution_count": 25,
      "outputs": [
        {
          "output_type": "execute_result",
          "data": {
            "text/plain": [
              "<matplotlib.axes._subplots.AxesSubplot at 0x7fc978605890>"
            ]
          },
          "metadata": {
            "tags": []
          },
          "execution_count": 25
        },
        {
          "output_type": "display_data",
          "data": {
            "image/png": "[encoded data removed]",
            "text/plain": [
              "<Figure size 720x360 with 1 Axes>"
            ]
          },
          "metadata": {
            "tags": []
          }
        }
      ]
    },
    {
      "cell_type": "code",
      "metadata": {
        "colab": {
          "base_uri": "https://localhost:8080/",
          "height": 443
        },
        "id": "fH67KX7SwpXU",
        "outputId": "57a27cd8-19d2-4104-c898-01dce97a4f7d"
      },
      "source": [
        "sns.distplot(usermf.loc[usermf.gender=='Female','stats_mean_score'].dropna(), label='Female')\n",
        "sns.distplot(usermf.loc[usermf.gender=='Male','stats_mean_score'].dropna(), label='Male')\n",
        "\n",
        "plt.legend()"
      ],
      "execution_count": 26,
      "outputs": [
        {
          "output_type": "stream",
          "text": [
            "/usr/local/lib/python3.7/dist-packages/seaborn/distributions.py:2557: FutureWarning: `distplot` is a deprecated function and will be removed in a future version. Please adapt your code to use either `displot` (a figure-level function with similar flexibility) or `histplot` (an axes-level function for histograms).\n",
            "  warnings.warn(msg, FutureWarning)\n",
            "/usr/local/lib/python3.7/dist-packages/seaborn/distributions.py:2557: FutureWarning: `distplot` is a deprecated function and will be removed in a future version. Please adapt your code to use either `displot` (a figure-level function with similar flexibility) or `histplot` (an axes-level function for histograms).\n",
            "  warnings.warn(msg, FutureWarning)\n"
          ],
          "name": "stderr"
        },
        {
          "output_type": "execute_result",
          "data": {
            "text/plain": [
              "<matplotlib.legend.Legend at 0x7fc9785b7dd0>"
            ]
          },
          "metadata": {
            "tags": []
          },
          "execution_count": 26
        },
        {
          "output_type": "display_data",
          "data": {
            "image/png": "[encoded data removed]",
            "text/plain": [
              "<Figure size 720x360 with 1 Axes>"
            ]
          },
          "metadata": {
            "tags": []
          }
        }
      ]
    },
    {
      "cell_type": "code",
      "metadata": {
        "colab": {
          "base_uri": "https://localhost:8080/"
        },
        "id": "83KhgAbAxV84",
        "outputId": "c77aa5fa-df38-4613-fbef-b2469adf818e"
      },
      "source": [
        "x = usermf.groupby('gender').stats_mean_score.mean().diff()[1]\n",
        "x"
      ],
      "execution_count": 27,
      "outputs": [
        {
          "output_type": "execute_result",
          "data": {
            "text/plain": [
              "-0.15167639045683146"
            ]
          },
          "metadata": {
            "tags": []
          },
          "execution_count": 27
        }
      ]
    },
    {
      "cell_type": "markdown",
      "metadata": {
        "id": "KVnkpxjxxhjh"
      },
      "source": [
        "### Hypothesis Testing: ผู้หญิงให้ Score มากกว่าผู้ชายโดยเฉลี่ย 0.15 เป็นเรื่องบังเอิญหรือไม่?\n",
        "\n",
        "#### 1. ตั้ง Null Hypothesis $H_0$\n",
        "Null Hypothesis -> เพศหญิงให้ score เฉลี่ยมากกว่าเพศชายเป็นเรื่องบังเอิญ\n",
        "\n",
        "#### 2. Alternate Hypothesis $H_1$\n",
        "Alternate Hypothesis -> เพศหญิงจะให้ score เฉลี่ยแล้วมากกว่าเพศชาย\n",
        "\n",
        "#### 3. กำหนดค่า $\\alpha$"
      ]
    },
    {
      "cell_type": "code",
      "metadata": {
        "id": "_SKH8ZiuyNP3"
      },
      "source": [
        "alpha = 0.05"
      ],
      "execution_count": 29,
      "outputs": []
    },
    {
      "cell_type": "markdown",
      "metadata": {
        "id": "i7pgcqVbyNyA"
      },
      "source": [
        "#### 4. หา $p$-value\n",
        "จัดกลุ่มใหม่ A 70880 คน และ B 37330 คน คำนวณค่าเฉลี่ยการให้ score เฉลี่ยของ A - B ทั้งหมด 1000 ครั้ง"
      ]
    },
    {
      "cell_type": "code",
      "metadata": {
        "id": "M6v_Tn2IyRSk"
      },
      "source": [
        "res = []\n",
        "for _ in range(10000):\n",
        "    groupA = usermf.sample(70880,replace=True).stats_mean_score\n",
        "    groupB = usermf.sample(37330,replace=True).stats_mean_score\n",
        "    res.append(groupA.mean() - groupB.mean())\n",
        "resample_diff = pd.Series(res)"
      ],
      "execution_count": 28,
      "outputs": []
    },
    {
      "cell_type": "code",
      "metadata": {
        "colab": {
          "base_uri": "https://localhost:8080/"
        },
        "id": "H68xpToKyxMA",
        "outputId": "7fa0cb4b-19f0-4919-ece3-324c557ccfd6"
      },
      "source": [
        "(resample_diff >= x).sum()"
      ],
      "execution_count": 30,
      "outputs": [
        {
          "output_type": "execute_result",
          "data": {
            "text/plain": [
              "10000"
            ]
          },
          "metadata": {
            "tags": []
          },
          "execution_count": 30
        }
      ]
    },
    {
      "cell_type": "markdown",
      "metadata": {
        "id": "W29WBYp_ykN8"
      },
      "source": [
        "ความแตกต่างของการให้ score ที่สุ่มมากับค่า x"
      ]
    },
    {
      "cell_type": "code",
      "metadata": {
        "colab": {
          "base_uri": "https://localhost:8080/",
          "height": 393
        },
        "id": "q9O1cnVnymx4",
        "outputId": "8bc0ec71-76e0-47f4-c892-0fbfd833c1bd"
      },
      "source": [
        "plt.vlines(x, colors='red', ymin=0, ymax=40)\n",
        "sns.distplot(resample_diff)"
      ],
      "execution_count": 31,
      "outputs": [
        {
          "output_type": "stream",
          "text": [
            "/usr/local/lib/python3.7/dist-packages/seaborn/distributions.py:2557: FutureWarning: `distplot` is a deprecated function and will be removed in a future version. Please adapt your code to use either `displot` (a figure-level function with similar flexibility) or `histplot` (an axes-level function for histograms).\n",
            "  warnings.warn(msg, FutureWarning)\n"
          ],
          "name": "stderr"
        },
        {
          "output_type": "execute_result",
          "data": {
            "text/plain": [
              "<matplotlib.axes._subplots.AxesSubplot at 0x7fc96fb925d0>"
            ]
          },
          "metadata": {
            "tags": []
          },
          "execution_count": 31
        },
        {
          "output_type": "display_data",
          "data": {
            "image/png": "[encoded data removed]",
            "text/plain": [
              "<Figure size 720x360 with 1 Axes>"
            ]
          },
          "metadata": {
            "tags": []
          }
        }
      ]
    },
    {
      "cell_type": "code",
      "metadata": {
        "colab": {
          "base_uri": "https://localhost:8080/"
        },
        "id": "ZsII6nPRy-tY",
        "outputId": "3861a81d-5b8b-4d01-fa0b-9f3deea49cfb"
      },
      "source": [
        "p_value = (pd.Series(resample_diff) >= resample_diff).sum() / 10000\n",
        "p_value"
      ],
      "execution_count": 32,
      "outputs": [
        {
          "output_type": "execute_result",
          "data": {
            "text/plain": [
              "1.0"
            ]
          },
          "metadata": {
            "tags": []
          },
          "execution_count": 32
        }
      ]
    },
    {
      "cell_type": "markdown",
      "metadata": {
        "id": "_pqQPd_CzCBW"
      },
      "source": [
        "#### 5. เปรียบเทียบ $p$-value กับ $\\alpha$\n"
      ]
    },
    {
      "cell_type": "code",
      "metadata": {
        "colab": {
          "base_uri": "https://localhost:8080/"
        },
        "id": "VqN3vXwqzH7N",
        "outputId": "9825ce07-314e-49b5-d511-e8fee9f0b883"
      },
      "source": [
        "alpha, p_value"
      ],
      "execution_count": 33,
      "outputs": [
        {
          "output_type": "execute_result",
          "data": {
            "text/plain": [
              "(0.05, 1.0)"
            ]
          },
          "metadata": {
            "tags": []
          },
          "execution_count": 33
        }
      ]
    },
    {
      "cell_type": "markdown",
      "metadata": {
        "id": "akgS2JCnzN6g"
      },
      "source": [
        "#### 6. สรุปผลการทดสอบ\n",
        "\n",
        "จะเห็นว่าค่า $p$-value มีค่ามากกว่า alpha ดังนั้นจึงปฏิเสธ $H_1$ และยอมรับ $H_0$ ที่ระดับความเชื่อมั่น 95%"
      ]
    },
    {
      "cell_type": "markdown",
      "metadata": {
        "id": "2oEvxHBszy6H"
      },
      "source": [
        "## 3. วันเฉลี่ยในการดูของผู้ใช้แบ่งแยกโดยเพศ"
      ]
    },
    {
      "cell_type": "code",
      "metadata": {
        "id": "ei8hieHiz6IQ"
      },
      "source": [
        "users_df = users_filtered.loc[users_filtered.gender != 'Non-Binary']"
      ],
      "execution_count": 34,
      "outputs": []
    },
    {
      "cell_type": "code",
      "metadata": {
        "colab": {
          "base_uri": "https://localhost:8080/",
          "height": 299
        },
        "id": "0YnBLMcAz_EG",
        "outputId": "65d20c33-6ef3-430f-b76c-cad8af94d360"
      },
      "source": [
        "users_df.head()"
      ],
      "execution_count": 35,
      "outputs": [
        {
          "output_type": "execute_result",
          "data": {
            "text/html": [
              "<div>\n",
              "<style scoped>\n",
              "    .dataframe tbody tr th:only-of-type {\n",
              "        vertical-align: middle;\n",
              "    }\n",
              "\n",
              "    .dataframe tbody tr th {\n",
              "        vertical-align: top;\n",
              "    }\n",
              "\n",
              "    .dataframe thead th {\n",
              "        text-align: right;\n",
              "    }\n",
              "</style>\n",
              "<table border=\"1\" class=\"dataframe\">\n",
              "  <thead>\n",
              "    <tr style=\"text-align: right;\">\n",
              "      <th></th>\n",
              "      <th>username</th>\n",
              "      <th>user_id</th>\n",
              "      <th>user_watching</th>\n",
              "      <th>user_completed</th>\n",
              "      <th>user_onhold</th>\n",
              "      <th>user_dropped</th>\n",
              "      <th>user_plantowatch</th>\n",
              "      <th>user_days_spent_watching</th>\n",
              "      <th>gender</th>\n",
              "      <th>location</th>\n",
              "      <th>birth_date</th>\n",
              "      <th>access_rank</th>\n",
              "      <th>join_date</th>\n",
              "      <th>last_online</th>\n",
              "      <th>stats_mean_score</th>\n",
              "      <th>stats_rewatched</th>\n",
              "      <th>stats_episodes</th>\n",
              "    </tr>\n",
              "  </thead>\n",
              "  <tbody>\n",
              "    <tr>\n",
              "      <th>0</th>\n",
              "      <td>karthiga</td>\n",
              "      <td>2255153</td>\n",
              "      <td>3</td>\n",
              "      <td>49</td>\n",
              "      <td>1</td>\n",
              "      <td>0</td>\n",
              "      <td>0</td>\n",
              "      <td>55.31</td>\n",
              "      <td>Female</td>\n",
              "      <td>Chennai, India</td>\n",
              "      <td>1990-04-29</td>\n",
              "      <td>NaN</td>\n",
              "      <td>2013-03-03</td>\n",
              "      <td>2014-02-04 01:32:00</td>\n",
              "      <td>7.43</td>\n",
              "      <td>0.0</td>\n",
              "      <td>3391.0</td>\n",
              "    </tr>\n",
              "    <tr>\n",
              "      <th>1</th>\n",
              "      <td>RedvelvetDaisuki</td>\n",
              "      <td>1897606</td>\n",
              "      <td>61</td>\n",
              "      <td>396</td>\n",
              "      <td>39</td>\n",
              "      <td>0</td>\n",
              "      <td>206</td>\n",
              "      <td>118.07</td>\n",
              "      <td>Female</td>\n",
              "      <td>Manila</td>\n",
              "      <td>1995-01-01</td>\n",
              "      <td>NaN</td>\n",
              "      <td>2012-12-13</td>\n",
              "      <td>1900-05-13 02:47:00</td>\n",
              "      <td>6.78</td>\n",
              "      <td>80.0</td>\n",
              "      <td>7094.0</td>\n",
              "    </tr>\n",
              "    <tr>\n",
              "      <th>2</th>\n",
              "      <td>Damonashu</td>\n",
              "      <td>37326</td>\n",
              "      <td>45</td>\n",
              "      <td>195</td>\n",
              "      <td>27</td>\n",
              "      <td>25</td>\n",
              "      <td>59</td>\n",
              "      <td>83.70</td>\n",
              "      <td>Male</td>\n",
              "      <td>Detroit,Michigan</td>\n",
              "      <td>1991-08-01</td>\n",
              "      <td>NaN</td>\n",
              "      <td>2008-02-13</td>\n",
              "      <td>1900-03-24 12:48:00</td>\n",
              "      <td>6.15</td>\n",
              "      <td>6.0</td>\n",
              "      <td>4936.0</td>\n",
              "    </tr>\n",
              "    <tr>\n",
              "      <th>3</th>\n",
              "      <td>bskai</td>\n",
              "      <td>228342</td>\n",
              "      <td>25</td>\n",
              "      <td>414</td>\n",
              "      <td>2</td>\n",
              "      <td>5</td>\n",
              "      <td>11</td>\n",
              "      <td>167.16</td>\n",
              "      <td>Male</td>\n",
              "      <td>Nayarit, Mexico</td>\n",
              "      <td>1990-12-14</td>\n",
              "      <td>NaN</td>\n",
              "      <td>2009-08-31</td>\n",
              "      <td>2014-05-12 16:35:00</td>\n",
              "      <td>8.27</td>\n",
              "      <td>1.0</td>\n",
              "      <td>10081.0</td>\n",
              "    </tr>\n",
              "    <tr>\n",
              "      <th>4</th>\n",
              "      <td>terune_uzumaki</td>\n",
              "      <td>327311</td>\n",
              "      <td>5</td>\n",
              "      <td>5</td>\n",
              "      <td>0</td>\n",
              "      <td>0</td>\n",
              "      <td>0</td>\n",
              "      <td>15.20</td>\n",
              "      <td>Female</td>\n",
              "      <td>Malaysia, Kuantan</td>\n",
              "      <td>1998-08-24</td>\n",
              "      <td>NaN</td>\n",
              "      <td>2010-05-10</td>\n",
              "      <td>2012-10-18 19:06:00</td>\n",
              "      <td>9.70</td>\n",
              "      <td>6.0</td>\n",
              "      <td>920.0</td>\n",
              "    </tr>\n",
              "  </tbody>\n",
              "</table>\n",
              "</div>"
            ],
            "text/plain": [
              "           username  user_id  ...  stats_rewatched  stats_episodes\n",
              "0          karthiga  2255153  ...              0.0          3391.0\n",
              "1  RedvelvetDaisuki  1897606  ...             80.0          7094.0\n",
              "2         Damonashu    37326  ...              6.0          4936.0\n",
              "3             bskai   228342  ...              1.0         10081.0\n",
              "4    terune_uzumaki   327311  ...              6.0           920.0\n",
              "\n",
              "[5 rows x 17 columns]"
            ]
          },
          "metadata": {
            "tags": []
          },
          "execution_count": 35
        }
      ]
    },
    {
      "cell_type": "code",
      "metadata": {
        "colab": {
          "base_uri": "https://localhost:8080/"
        },
        "id": "G1PwiJMO0B0Z",
        "outputId": "a864d22e-23ed-45c4-9616-b36905483085"
      },
      "source": [
        "users_df.groupby('gender').size()"
      ],
      "execution_count": 36,
      "outputs": [
        {
          "output_type": "execute_result",
          "data": {
            "text/plain": [
              "gender\n",
              "Female    39995\n",
              "Male      75540\n",
              "dtype: int64"
            ]
          },
          "metadata": {
            "tags": []
          },
          "execution_count": 36
        }
      ]
    },
    {
      "cell_type": "markdown",
      "metadata": {
        "id": "X_ypez940EJv"
      },
      "source": [
        "วันเฉลี่ยในการดูของผู้ใช้แบ่งแยกโดยเพศ"
      ]
    },
    {
      "cell_type": "code",
      "metadata": {
        "colab": {
          "base_uri": "https://localhost:8080/"
        },
        "id": "LDtq88Wl0FEG",
        "outputId": "f9355601-04d6-40c4-ee21-39e596e1f420"
      },
      "source": [
        "users_df.groupby('gender').user_days_spent_watching.mean()"
      ],
      "execution_count": 37,
      "outputs": [
        {
          "output_type": "execute_result",
          "data": {
            "text/plain": [
              "gender\n",
              "Female     53.982374\n",
              "Male      114.275708\n",
              "Name: user_days_spent_watching, dtype: float64"
            ]
          },
          "metadata": {
            "tags": []
          },
          "execution_count": 37
        }
      ]
    },
    {
      "cell_type": "markdown",
      "metadata": {
        "id": "PztN2K5R0Il1"
      },
      "source": [
        "ความแตกต่างของวันเฉลี่ยในการดูของผู้ใช้แบ่งแยกโดยเพศ"
      ]
    },
    {
      "cell_type": "code",
      "metadata": {
        "colab": {
          "base_uri": "https://localhost:8080/"
        },
        "id": "kbeOywtg0JBL",
        "outputId": "ec09ebfe-f513-4edd-bf3a-4fdcab4d8971"
      },
      "source": [
        "users_df.groupby('gender').user_days_spent_watching.mean().diff()"
      ],
      "execution_count": 38,
      "outputs": [
        {
          "output_type": "execute_result",
          "data": {
            "text/plain": [
              "gender\n",
              "Female          NaN\n",
              "Male      60.293334\n",
              "Name: user_days_spent_watching, dtype: float64"
            ]
          },
          "metadata": {
            "tags": []
          },
          "execution_count": 38
        }
      ]
    },
    {
      "cell_type": "markdown",
      "metadata": {
        "id": "moyPBKFz0MCY"
      },
      "source": [
        "### Hypothesis Testing: ผู้ชายมีค่าเฉลี่ยในการดูมากกว่าผู้หญิงโดยประมาณ 60 วันเป็นเรื่องบังเอิญหรือไม่?\n",
        "\n",
        "#### 1. ตั้ง Null Hypothesis $H_0$\n",
        "Null Hypothesis -> ผู้ชายมีค่าเฉลี่ยในการดูมากกว่าผู้หญิงโดยประมาณ 60 วันเป็นเรื่องบังเอิญ\n",
        "\n",
        "#### 2. Alternate Hypothesis $H_1$\n",
        "Alternate Hypothesis -> ผู้ชายมีค่าเฉลี่ยในการดูมากกว่าผู้หญิงโดยประมาณ 60 วันไม่เป็นเรื่องบังเอิญ\n",
        "\n",
        "#### 3. กำหนดค่า $\\alpha$"
      ]
    },
    {
      "cell_type": "code",
      "metadata": {
        "id": "ZJE2BTAv0hpC"
      },
      "source": [
        "alpha = 0.10"
      ],
      "execution_count": 39,
      "outputs": []
    },
    {
      "cell_type": "markdown",
      "metadata": {
        "id": "OO2_2q620lAp"
      },
      "source": [
        "#### 4. หา $p$-value"
      ]
    },
    {
      "cell_type": "code",
      "metadata": {
        "id": "94EUqkDF0nV_"
      },
      "source": [
        "diff_days_list = []\n",
        "\n",
        "for _ in range(2000):\n",
        "    gA = users_df.sample(75540).user_days_spent_watching \n",
        "    gB = users_df.sample(39995).user_days_spent_watching\n",
        "    diff_days_list.append(gA.mean() - gB.mean())"
      ],
      "execution_count": 45,
      "outputs": []
    },
    {
      "cell_type": "code",
      "metadata": {
        "colab": {
          "base_uri": "https://localhost:8080/"
        },
        "id": "lqPdFtbD0pXn",
        "outputId": "64a788bd-fadb-41f6-91e9-9b8fa778d1a8"
      },
      "source": [
        "x = users_df.groupby('gender').user_days_spent_watching.mean().diff()[1]\n",
        "p_value = (pd.Series(diff_days_list) >= x).sum() / 2000\n",
        "\n",
        "p_value"
      ],
      "execution_count": 46,
      "outputs": [
        {
          "output_type": "execute_result",
          "data": {
            "text/plain": [
              "0.0"
            ]
          },
          "metadata": {
            "tags": []
          },
          "execution_count": 46
        }
      ]
    },
    {
      "cell_type": "markdown",
      "metadata": {
        "id": "0-Xc-7xZ0vie"
      },
      "source": [
        "#### 5. เปรียบเทียบ $p$-value กับ $\\alpha$"
      ]
    },
    {
      "cell_type": "code",
      "metadata": {
        "colab": {
          "base_uri": "https://localhost:8080/"
        },
        "id": "XsZH9d2C022S",
        "outputId": "5988abd1-5d53-4e4b-f04c-df95eee43c57"
      },
      "source": [
        "alpha, p_value"
      ],
      "execution_count": 47,
      "outputs": [
        {
          "output_type": "execute_result",
          "data": {
            "text/plain": [
              "(0.1, 0.0)"
            ]
          },
          "metadata": {
            "tags": []
          },
          "execution_count": 47
        }
      ]
    },
    {
      "cell_type": "markdown",
      "metadata": {
        "id": "OHnc3sWU05Tn"
      },
      "source": [
        "#### 6. สรุปผลการทดสอบ\n",
        "\n",
        "จะเห็นว่าค่า $p$-value มีค่าน้อยกว่า alpha ดังนั้นจึงปฏิเสธ $H_0$ และยอมรับ $H_1$ ที่ระดับความเชื่อมั่น 90%"
      ]
    }
  ]
}